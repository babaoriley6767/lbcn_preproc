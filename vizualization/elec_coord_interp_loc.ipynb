{
 "cells": [
  {
   "cell_type": "code",
   "execution_count": null,
   "metadata": {},
   "outputs": [],
   "source": [
    "## Electrode coordinate interpolation for localization\n",
    "import numpy as np\n",
    "#---\n",
    "\n",
    "elec_num = int(input('How many electrodes?'))\n",
    "\n",
    "startco = input('What are the coordinates of most inner: ')\n",
    "startco = startco.split()\n",
    "startco = np.asarray(startco)\n",
    "startco = startco.astype(float)\n",
    "\n",
    "endco = input('What are the coordinates of most outer: ')\n",
    "endco = endco.split()\n",
    "endco = np.asarray(endco)\n",
    "endco = endco.astype(float)\n",
    "\n",
    "xyz = np.empty((elec_num, len(startco)))\n",
    "for i in range(len(startco)):\n",
    "    xyz[:,i] = np.linspace(startco[i], endco[i], elec_num)\n",
    "for i in range(elec_num):\n",
    "    print (\"Coordinates for electrode number %d:\" % float(i+1))       \n",
    "    print(' '.join(map(str, xyz[i,:])))\n",
    "    print(' ')"
   ]
  }
 ],
 "metadata": {
  "kernelspec": {
   "display_name": "Python 3",
   "language": "python",
   "name": "python3"
  },
  "language_info": {
   "codemirror_mode": {
    "name": "ipython",
    "version": 3
   },
   "file_extension": ".py",
   "mimetype": "text/x-python",
   "name": "python",
   "nbconvert_exporter": "python",
   "pygments_lexer": "ipython3",
   "version": "3.6.6"
  }
 },
 "nbformat": 4,
 "nbformat_minor": 2
}
